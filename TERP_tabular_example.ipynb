{
  "nbformat": 4,
  "nbformat_minor": 0,
  "metadata": {
    "colab": {
      "provenance": [],
      "authorship_tag": "ABX9TyP7AkCIEfDsTfmEdGVYVjlu",
      "include_colab_link": true
    },
    "kernelspec": {
      "name": "python3",
      "display_name": "Python 3"
    },
    "language_info": {
      "name": "python"
    }
  },
  "cells": [
    {
      "cell_type": "markdown",
      "metadata": {
        "id": "view-in-github",
        "colab_type": "text"
      },
      "source": [
        "<a href=\"https://colab.research.google.com/github/tiwarylab/TERP/blob/main/TERP_tabular_example.ipynb\" target=\"_parent\"><img src=\"https://colab.research.google.com/assets/colab-badge.svg\" alt=\"Open In Colab\"/></a>"
      ]
    },
    {
      "cell_type": "markdown",
      "source": [
        "Clone TERP repository"
      ],
      "metadata": {
        "id": "MoSvDpHTwSc8"
      }
    },
    {
      "cell_type": "code",
      "execution_count": 1,
      "metadata": {
        "colab": {
          "base_uri": "https://localhost:8080/"
        },
        "id": "_YLIHnxlgprr",
        "outputId": "924a23a9-2802-4cb6-9eac-7b82df551a71"
      },
      "outputs": [
        {
          "output_type": "stream",
          "name": "stdout",
          "text": [
            "\u001b[K\u001b[?25hnpx: installed 1 in 2.146s\n",
            "\u001b[36m> destination directory is not empty. Using --force, continuing\u001b[39m\n",
            "\u001b[36m> cloned \u001b[1mtiwarylab/TERP\u001b[22m#\u001b[1mHEAD\u001b[22m\u001b[39m\n"
          ]
        }
      ],
      "source": [
        "!npx degit -f tiwarylab/TERP"
      ]
    },
    {
      "cell_type": "markdown",
      "source": [
        "Create synthetic data with 10 input features with (0,4,7) feature indices with relative weights (2,5,-1) being relevant for the prediction function"
      ],
      "metadata": {
        "id": "lDraECQtwY9x"
      }
    },
    {
      "cell_type": "code",
      "source": [
        "import numpy as np\n",
        "import matplotlib.pyplot as plt\n",
        "\n",
        "######################################\n",
        "np.random.seed(0)\n",
        "total_input_features = 10\n",
        "dataset_size = 20000\n",
        "relevant_indices = [0,4,7] ## Final TERP result should identify these feature indices as relevant with weights specified in the following line of code\n",
        "relevant_weights = [3,5,-2]\n",
        "#######################################\n",
        "\n",
        "input = np.random.uniform(-5,10,(dataset_size,total_input_features))\n",
        "\n",
        "def prediction(inp_data):\n",
        "  data = inp_data[:, relevant_indices]\n",
        "  ## Add small noise to prediction\n",
        "  eps = np.random.normal(0,0.05,(data.shape[0],1))\n",
        "  predict = np.zeros((data.shape[0]))\n",
        "  for i in range(predict.shape[0]):\n",
        "   temp = 0\n",
        "   for j in range(len(relevant_indices)):\n",
        "    temp += data[i,j]*relevant_weights[j]\n",
        "   predict[i] = temp + eps[i]\n",
        "  return predict"
      ],
      "metadata": {
        "id": "d_MSKXNjgvDC"
      },
      "execution_count": 152,
      "outputs": []
    },
    {
      "cell_type": "markdown",
      "source": [
        "Save synthetic data as a numpy array"
      ],
      "metadata": {
        "id": "njn5T1lgw0HT"
      }
    },
    {
      "cell_type": "code",
      "source": [
        "np.save('input_data.npy', input)"
      ],
      "metadata": {
        "id": "iTrAI27YiqWA"
      },
      "execution_count": 153,
      "outputs": []
    },
    {
      "cell_type": "markdown",
      "source": [
        "TERP step 1: Neighborhood data generation (10000 perturbed samples) to explain prediction for input index 0 (first sample in the synthetic dataset)"
      ],
      "metadata": {
        "id": "4tYP7zr7xDUh"
      }
    },
    {
      "cell_type": "code",
      "source": [
        "!python TERP_neighborhood_generator.py -seed 0 --progress_bar -input_numeric input_data.npy -num_samples 10000 -index 0"
      ],
      "metadata": {
        "colab": {
          "base_uri": "https://localhost:8080/"
        },
        "id": "QMnadmZ7g-O9",
        "outputId": "ac5f37c4-0038-45df-bfcf-5f14dd8c2eea"
      },
      "execution_count": 154,
      "outputs": [
        {
          "output_type": "stream",
          "name": "stdout",
          "text": [
            ">>> Numerical data provided...\n",
            ">>> Generating data...\n",
            "100% 10000/10000 [00:00<00:00, 37132.55it/s]\n",
            ">>> Data generation complete!\n",
            "Files saved in :::  /content/DATA\n"
          ]
        }
      ]
    },
    {
      "cell_type": "markdown",
      "source": [
        "Save prediction for the neighborhood generated in step 1 as a numpy array"
      ],
      "metadata": {
        "id": "GmfjHQ8uxZr-"
      }
    },
    {
      "cell_type": "code",
      "source": [
        "pred_1 = prediction(np.load('DATA/make_prediction_numeric.npy'))\n",
        "np.save('DATA/neighborhood_state_probabilities.npy', pred_1)\n",
        "print(np.load('DATA/TERP_numeric.npy').shape, pred_1.shape)"
      ],
      "metadata": {
        "colab": {
          "base_uri": "https://localhost:8080/"
        },
        "id": "5h1d1GGqjm0U",
        "outputId": "30fe45d3-e11a-4d2d-f477-3457ed239556"
      },
      "execution_count": 155,
      "outputs": [
        {
          "output_type": "stream",
          "name": "stdout",
          "text": [
            "(10000, 10) (10000,)\n"
          ]
        }
      ]
    },
    {
      "cell_type": "markdown",
      "source": [
        "TERP step 2: Initial round of linear regression (useful for discarding irrelevant features when high number of input features are present in the dataset)"
      ],
      "metadata": {
        "id": "ILUtecwYxeYZ"
      }
    },
    {
      "cell_type": "code",
      "source": [
        "!python TERP_optimizer_01.py -TERP_input DATA/TERP_numeric.npy -blackbox_prediction DATA/neighborhood_state_probabilities.npy"
      ],
      "metadata": {
        "colab": {
          "base_uri": "https://localhost:8080/"
        },
        "id": "u4rjb2wjjKXL",
        "outputId": "5e4bbcef-de18-483b-8f03-55e3ef74271b"
      },
      "execution_count": 156,
      "outputs": [
        {
          "output_type": "stream",
          "name": "stdout",
          "text": [
            "----------------------------------------------------------------------------------------------------\n",
            "11-17-23 19:48:52 initialization  INFO     Starting TERP...\n",
            "----------------------------------------------------------------------------------------------------\n",
            "10000 (10000, 10)\n",
            "11-17-23 19:48:52 initialization  INFO     Input data read successful ...\n",
            "11-17-23 19:48:52 initialization  WARNING  explain_class not provided, defaulting to class with maximum predictiion probability :: 0\n",
            "11-17-23 19:48:52 initialization  WARNING  Cutoff not provided. Defaulting to :: 25\n",
            "11-17-23 19:48:52 initialization  INFO     No distance flag provided. Performing 1-d LDA projection to compute similarity measure!\n",
            "11-17-23 19:48:52 initialization  WARNING  Top 25 features selected with weight coverage :: 1.0000000000000002!!\n",
            "11-17-23 19:48:52 initialization  INFO     Selected the following 10 out of (10) features to form a feature sub-space ::\n",
            "11-17-23 19:48:52 initialization  INFO     [4, 0, 7, 5, 3, 1, 8, 2, 9, 6]\n"
          ]
        }
      ]
    },
    {
      "cell_type": "markdown",
      "source": [
        "TERP step 3: Neighborhood regeneration (10000 samples) by perturbing a subset of relevant features identified in step 2"
      ],
      "metadata": {
        "id": "hf4kFGZhxrda"
      }
    },
    {
      "cell_type": "code",
      "source": [
        "!python TERP_neighborhood_generator.py -seed 0 --progress_bar -input_numeric input_data.npy -num_samples 10000 -index 0 -selected_features TERP_results/selected_features.npy"
      ],
      "metadata": {
        "colab": {
          "base_uri": "https://localhost:8080/"
        },
        "id": "3kQNdB9zjiXx",
        "outputId": "4db524a6-af43-495f-b8a2-421e1d4ab5ab"
      },
      "execution_count": 157,
      "outputs": [
        {
          "output_type": "stream",
          "name": "stdout",
          "text": [
            ">>> Numerical data provided...\n",
            ">>> Generating data...\n",
            "100% 10000/10000 [00:00<00:00, 38965.67it/s]\n",
            ">>> Data generation complete!\n",
            "Files saved in :::  /content/DATA_2\n"
          ]
        }
      ]
    },
    {
      "cell_type": "markdown",
      "source": [
        "Save prediction for the neighborhood generated in step 3 as a numpy array"
      ],
      "metadata": {
        "id": "awNaLr9Wx4R1"
      }
    },
    {
      "cell_type": "code",
      "source": [
        "pred_2 = prediction(np.load('DATA_2/make_prediction_numeric.npy'))\n",
        "np.save('DATA_2/neighborhood_state_probabilities.npy', pred_2)\n",
        "print(np.load('DATA_2/TERP_numeric.npy').shape, pred_2.shape)"
      ],
      "metadata": {
        "colab": {
          "base_uri": "https://localhost:8080/"
        },
        "id": "GPujJmvwlVoD",
        "outputId": "ac4406a6-5369-47c7-c20c-a3c76be65ac3"
      },
      "execution_count": 158,
      "outputs": [
        {
          "output_type": "stream",
          "name": "stdout",
          "text": [
            "(10000, 10) (10000,)\n"
          ]
        }
      ]
    },
    {
      "cell_type": "markdown",
      "source": [
        "TERP step 4: Implementing forward feature selection to identify most relevant features"
      ],
      "metadata": {
        "id": "nolTLT-vyDZf"
      }
    },
    {
      "cell_type": "code",
      "source": [
        "!python TERP_optimizer_02.py -TERP_input DATA_2/TERP_numeric.npy -blackbox_prediction DATA_2/neighborhood_state_probabilities.npy -selected_features TERP_results/selected_features.npy"
      ],
      "metadata": {
        "colab": {
          "base_uri": "https://localhost:8080/"
        },
        "id": "k4RBmkvOlH6n",
        "outputId": "90cd54b8-87cc-4836-b6b6-55fe99e0d3df"
      },
      "execution_count": 159,
      "outputs": [
        {
          "output_type": "stream",
          "name": "stdout",
          "text": [
            "----------------------------------------------------------------------------------------------------\n",
            "11-17-23 19:48:54 initialization  INFO     Starting TERP...\n",
            "----------------------------------------------------------------------------------------------------\n",
            "11-17-23 19:48:54 initialization  INFO     Input data read successful ...\n",
            "11-17-23 19:48:54 initialization  WARNING  explain_class not provided, defaulting to class with maximum predictiion probability :: 0\n",
            "11-17-23 19:48:54 initialization  INFO     No distance flag provided. Performing 1-d LDA projection to compute similarity measure!\n",
            "11-17-23 19:48:54 initialization  INFO     Feature selection results read successful!\n",
            "11-17-23 19:48:54 initialization  INFO     Similarity computation complete...\n",
            "----------------------------------------------------------------------------------------------------\n",
            "Number of models constructed:: 100% 10/10 [00:02<00:00,  4.92it/s]\n",
            "11-17-23 19:48:56 TERP_SGD_step_02 INFO     Analysis complete! Computation time :: 0 min 2.036 sec...\n",
            "----------------------------------------------------------------------------------------------------\n"
          ]
        }
      ]
    },
    {
      "cell_type": "markdown",
      "source": [
        "Load final TERP result and plot the relative weights"
      ],
      "metadata": {
        "id": "x8zLQFYQyQd6"
      }
    },
    {
      "cell_type": "code",
      "source": [
        "w = np.load('TERP_results_2/optimal_feature_weights.npy')\n",
        "fig, ax = plt.subplots()\n",
        "ax.bar(np.arange(w.shape[0]), w)\n",
        "ax.set_xticks(np.arange(w.shape[0]))\n",
        "ax.set_xlabel(r'Feature index')\n",
        "ax.set_ylabel('Relative feature importance')\n",
        "fig.tight_layout()"
      ],
      "metadata": {
        "colab": {
          "base_uri": "https://localhost:8080/",
          "height": 487
        },
        "id": "IoV7VpGSlbUx",
        "outputId": "7e2d5f7f-891f-4fa0-f43d-b1157d479fe3"
      },
      "execution_count": 160,
      "outputs": [
        {
          "output_type": "display_data",
          "data": {
            "text/plain": [
              "<Figure size 640x480 with 1 Axes>"
            ],
            "image/png": "[encoded data removed]"
          },
          "metadata": {}
        }
      ]
    },
    {
      "cell_type": "markdown",
      "source": [
        "TERP successfully created a sparse interpretation with the relevant features"
      ],
      "metadata": {
        "id": "PJwDozMPyXKr"
      }
    }
  ]
}